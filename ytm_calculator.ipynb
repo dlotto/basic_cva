{
 "cells": [
  {
   "cell_type": "markdown",
   "metadata": {},
   "source": [
    "# Yield to Maturity (YTM) Calculator\n",
    "## Class function for coupon bond pricing found [HERE](https://medium.com/@gennadii.turutin/how-to-calculate-yield-to-maturity-with-python-65a9a34d56f3)\n",
    "Credit: Gennadi Turutin"
   ]
  },
  {
   "cell_type": "code",
   "execution_count": 22,
   "metadata": {},
   "outputs": [],
   "source": [
    "class Coupon_Bond:\n",
    "    def get_price(self, coupon, face_value, int_rate, years, freq=1):\n",
    "        total_coupons_pv = self.get_coupons_pv(coupon, int_rate, years, freq)\n",
    "        face_value_pv = self.get_face_value_pv(face_value, int_rate, years)\n",
    "        result = total_coupons_pv + face_value_pv\n",
    "        return result\n",
    "\n",
    "    @staticmethod\n",
    "    def get_face_value_pv(face_value, int_rate, years):\n",
    "        fvpv = face_value / (1 + int_rate)**years\n",
    "        return fvpv\n",
    "\n",
    "    def get_coupons_pv(self, coupon, int_rate, years, freq=1):\n",
    "        pv = 0\n",
    "        for period in range(years*freq):\n",
    "            pv += self.get_coupon_pv(coupon, int_rate, period+1, freq)\n",
    "        return pv\n",
    "    \n",
    "    @staticmethod\n",
    "    def get_coupon_pv(coupon, int_rate, period, freq):\n",
    "        pv = coupon / (1 + int_rate/freq)**period\n",
    "        return pv\n",
    "    \n",
    "    # something with the lambda isnt working -----\n",
    "    def get_ytm(self, bond_price, face_value, coupon, years, freq=1, estimate=0.05):\n",
    "        import scipy\n",
    "        from scipy import optimize\n",
    "        get_yield = lambda int_rate: self.get_price(coupon, face_value, int_rate, years, freq) - bond_price\n",
    "        #get_yield = self.get_price(coupon, face_value, int_rate, years, freq) - bond_price\n",
    "        return optimize.newton(get_yield, estimate)"
   ]
  },
  {
   "cell_type": "code",
   "execution_count": 23,
   "metadata": {},
   "outputs": [
    {
     "data": {
      "text/plain": [
       "88.89963586709148"
      ]
     },
     "execution_count": 23,
     "metadata": {},
     "output_type": "execute_result"
    }
   ],
   "source": [
    "coup_calc = Coupon_Bond()\n",
    "coup_calc.get_ytm(bond_price=107.44, face_value=100, coupon=8, years=3, freq=1)"
   ]
  }
 ],
 "metadata": {
  "interpreter": {
   "hash": "bf16f1a9dd06422a97c142e751d69ff24c5c20f42ca1ce238a29a37c4c896327"
  },
  "kernelspec": {
   "display_name": "Python 3.9.5 64-bit",
   "name": "python3"
  },
  "language_info": {
   "codemirror_mode": {
    "name": "ipython",
    "version": 3
   },
   "file_extension": ".py",
   "mimetype": "text/x-python",
   "name": "python",
   "nbconvert_exporter": "python",
   "pygments_lexer": "ipython3",
   "version": "3.9.5"
  },
  "orig_nbformat": 4
 },
 "nbformat": 4,
 "nbformat_minor": 2
}
