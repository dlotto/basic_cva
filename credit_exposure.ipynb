{
 "cells": [
  {
   "cell_type": "markdown",
   "metadata": {},
   "source": [
    "# Credit Exposure\n",
    "*Notes below taken from Jon Gregory's \"The xVA Challenge\" 3rd Ed.*\n",
    "\n",
    "Exposure is the key determinant in xVA because it represents the core value that may be at risk in default scenarios and that otherwise needs to be funded. Exposure of some sort is a common component of all xVA adjustments.\n",
    "\n",
    "Unlike VaR, exposure needs to be defined over multiple time horizons (often far in the future) so as to understand fully the impact of time and specifics of the underlying contracts. There are two important implications of this:\n",
    "* Ageing\n",
    "* Trend (drift) of market variables\n",
    "\n",
    "**Credit for the Equations**\n",
    "https://cvacentral.com/wp-content/uploads/2020/06/Chapter-7-Appendices-3rd-Edition.pdf\n",
    "https://www.finrgb.com/swatches/potential-future-exposure-expected-exposure-derivation/"
   ]
  },
  {
   "cell_type": "markdown",
   "metadata": {},
   "source": [
    "# Expected Exposure"
   ]
  },
  {
   "cell_type": "code",
   "execution_count": 4,
   "metadata": {},
   "outputs": [],
   "source": [
    "from scipy.stats import norm"
   ]
  },
  {
   "cell_type": "code",
   "execution_count": 1,
   "metadata": {},
   "outputs": [],
   "source": [
    "# Constants\n",
    "mu = 2.0\n",
    "sigma = 4.0\n",
    "alpha = .99"
   ]
  },
  {
   "cell_type": "code",
   "execution_count": 7,
   "metadata": {},
   "outputs": [
    {
     "data": {
      "text/plain": [
       "2.7911862296052243"
      ]
     },
     "execution_count": 7,
     "metadata": {},
     "output_type": "execute_result"
    }
   ],
   "source": [
    "EE = mu*norm.cdf(mu/sigma) + sigma*norm.pdf(mu/sigma)\n",
    "EE"
   ]
  },
  {
   "cell_type": "markdown",
   "metadata": {},
   "source": [
    "# Potential Future Exposure\n",
    "Use `norm.ppf()` for the inverse of the CDF of the standard normal distribution\n",
    "ppf stands for \"percent point function\", which is another name for the \"quantile function\"\n",
    "\n",
    "Credit: https://stackoverflow.com/questions/20626994/how-to-calculate-the-inverse-of-the-normal-cumulative-distribution-function-in-p"
   ]
  },
  {
   "cell_type": "code",
   "execution_count": 9,
   "metadata": {},
   "outputs": [
    {
     "data": {
      "text/plain": [
       "11.305391496163363"
      ]
     },
     "execution_count": 9,
     "metadata": {},
     "output_type": "execute_result"
    }
   ],
   "source": [
    "PFE = mu + norm.ppf(alpha)*sigma\n",
    "PFE"
   ]
  }
 ],
 "metadata": {
  "interpreter": {
   "hash": "bf16f1a9dd06422a97c142e751d69ff24c5c20f42ca1ce238a29a37c4c896327"
  },
  "kernelspec": {
   "display_name": "Python 3.9.5 64-bit",
   "name": "python3"
  },
  "language_info": {
   "codemirror_mode": {
    "name": "ipython",
    "version": 3
   },
   "file_extension": ".py",
   "mimetype": "text/x-python",
   "name": "python",
   "nbconvert_exporter": "python",
   "pygments_lexer": "ipython3",
   "version": "3.9.5"
  },
  "orig_nbformat": 4
 },
 "nbformat": 4,
 "nbformat_minor": 2
}
