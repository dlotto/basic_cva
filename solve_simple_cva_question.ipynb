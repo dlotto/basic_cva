{
 "cells": [
  {
   "cell_type": "markdown",
   "metadata": {},
   "source": [
    "# CVA Calculation for Risky Bond\n",
    "This exercise is taken from [HERE](https://www.finrgb.com/swatches/cva-calculation-for-risky-bond-solved-example/)\n",
    "Credit: Bhuvnesh Khurana\n",
    "\n",
    "Question:\n",
    "A 3-year corporate bond pays a coupon of 8% per annum (once a year). The term structure of risk-free interest rates is flat at 4% p.a. and is expected to stay unchanged in the future. If the risk-neutral conditional probability of default of the issuer is 2% for a 1-year period and the recovery rate in event of default is 40% (assumed constant), the credit spread of this bond is CLOSEST to:\n",
    "A) 120 bps\n",
    "B) 125 bps\n",
    "C) 130 bps\n",
    "D) 135 bps"
   ]
  },
  {
   "cell_type": "code",
   "execution_count": 22,
   "metadata": {},
   "outputs": [],
   "source": [
    "import numpy as np, numpy_financial as npf"
   ]
  },
  {
   "cell_type": "markdown",
   "metadata": {},
   "source": [
    "## Expected exposure each year:\n",
    "EE1 = 8 + 8/1.04 + 8/(1.04)^2 = 115.5444\n",
    "EE2 = 8 + 8/1.04 = 111.8462\n",
    "EE3 = 8 + 100"
   ]
  },
  {
   "cell_type": "code",
   "execution_count": null,
   "metadata": {},
   "outputs": [],
   "source": [
    "EE = [115.5444, 111.8462, 108]"
   ]
  },
  {
   "cell_type": "markdown",
   "metadata": {},
   "source": [
    "## Probability of Default each year:\n",
    "PD1 = 2% = 0.02\n",
    "PD2 = (1 - 0.02)(0.02) = 0.0196\n",
    "PD3 = (1 - 0.02)^2 * (0.02) = 0.0192\n",
    "\n",
    "The conditional default in each time period is 2%.\n",
    "The survival probability is (1 - 0.02)"
   ]
  },
  {
   "cell_type": "code",
   "execution_count": null,
   "metadata": {},
   "outputs": [],
   "source": [
    "PD = [0.02, 0.0196, 0.0192]"
   ]
  },
  {
   "cell_type": "markdown",
   "metadata": {},
   "source": [
    "## Discount Factor in each time period:\n",
    "DF1 = 1/1.04\n",
    "DF1 = (1/1.04)^2\n",
    "DF1 = (1/1.04)^3"
   ]
  },
  {
   "cell_type": "code",
   "execution_count": null,
   "metadata": {},
   "outputs": [],
   "source": [
    "DF = [0.96153, 0.9246, 0.8890]"
   ]
  },
  {
   "cell_type": "markdown",
   "metadata": {},
   "source": [
    "## CVA Equation\n",
    "CVA = LGD * SUM(EE * PD * DF)"
   ]
  },
  {
   "cell_type": "code",
   "execution_count": 18,
   "metadata": {},
   "outputs": [
    {
     "data": {
      "text/plain": [
       "3.6553879622592"
      ]
     },
     "execution_count": 18,
     "metadata": {},
     "output_type": "execute_result"
    }
   ],
   "source": [
    "# The recovery rate is given to us as 40%. Therefore:\n",
    "LGD = 0.6\n",
    "\n",
    "# Basic CVA Equation\n",
    "CVA = LGD*sum(x*y*z for x, y, z in zip(EE,PD,DF))\n",
    "CVA"
   ]
  },
  {
   "cell_type": "markdown",
   "metadata": {},
   "source": [
    "The equation for the Risky Value is:\n",
    "Risky = Risk-Free - CVA\n",
    "\n",
    "Now that we have the CVA, we use the Present Value formula for a risk-free bond to get the Risk-Free value."
   ]
  },
  {
   "cell_type": "code",
   "execution_count": 31,
   "metadata": {},
   "outputs": [
    {
     "data": {
      "text/plain": [
       "111.10036413290852"
      ]
     },
     "execution_count": 31,
     "metadata": {},
     "output_type": "execute_result"
    }
   ],
   "source": [
    "# Calculate the Risk-Free Rate\n",
    "# Present value of a risk-free bond\n",
    "principal = 100\n",
    "annual_interest = 0.04\n",
    "period = 3\n",
    "coupon_payment = 0.08 * principal\n",
    "\n",
    "risk_free = (npf.pv(annual_interest, period, coupon_payment, principal)) * -1\n",
    "risk_free"
   ]
  },
  {
   "cell_type": "code",
   "execution_count": 32,
   "metadata": {},
   "outputs": [
    {
     "data": {
      "text/plain": [
       "107.44497617064933"
      ]
     },
     "execution_count": 32,
     "metadata": {},
     "output_type": "execute_result"
    }
   ],
   "source": [
    "# The risky_value is:\n",
    "risky_value = risk_free - CVA\n",
    "risky_value"
   ]
  },
  {
   "cell_type": "markdown",
   "metadata": {},
   "source": [
    "## Use the Risky Value to Find Yield to Maturity\n",
    "\n",
    "Using a Yield to Maturity calculator found here:\n",
    "https://dqydj.com/bond-yield-to-maturity-calculator/\n",
    "**YTM = 5.253**"
   ]
  },
  {
   "cell_type": "markdown",
   "metadata": {},
   "source": [
    "## Find the Credit-Spread\n",
    "Since the risk-free interest rate is 4%. \n",
    "Credit Spread = Risky YTM - Risk-Free Int Rate\n",
    "\n",
    "Credit Spread = 5.253 - 4 = 1.253%\n",
    "\n",
    "**The answer is B**"
   ]
  },
  {
   "cell_type": "markdown",
   "metadata": {},
   "source": [
    "## Notes on this Simple CVA Example\n",
    "\n",
    "* The sum() and zip() function were useful when creating the sum of the product of multiple arrays.\n",
    "* The npf.pv() function was very useful to simply finding the present value of a risk-free, coupon bond.\n",
    "* The Credit Spread is the Risky YTM - Risk-Free Int Rate."
   ]
  },
  {
   "cell_type": "markdown",
   "metadata": {},
   "source": [
    "# EXTRA\n",
    "## Class function for coupon bond pricing found [HERE](https://medium.com/@gennadii.turutin/how-to-calculate-yield-to-maturity-with-python-65a9a34d56f3)\n",
    "Credit: Gennadi Turutin\n",
    "-Although the formula does not seem to work, it is a good starting point."
   ]
  }
 ],
 "metadata": {
  "interpreter": {
   "hash": "bf16f1a9dd06422a97c142e751d69ff24c5c20f42ca1ce238a29a37c4c896327"
  },
  "kernelspec": {
   "display_name": "Python 3.9.5 64-bit",
   "name": "python3"
  },
  "language_info": {
   "codemirror_mode": {
    "name": "ipython",
    "version": 3
   },
   "file_extension": ".py",
   "mimetype": "text/x-python",
   "name": "python",
   "nbconvert_exporter": "python",
   "pygments_lexer": "ipython3",
   "version": "3.9.5"
  },
  "orig_nbformat": 4
 },
 "nbformat": 4,
 "nbformat_minor": 2
}
