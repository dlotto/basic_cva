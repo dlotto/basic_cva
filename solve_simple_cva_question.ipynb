{
 "cells": [
  {
   "cell_type": "markdown",
   "metadata": {},
   "source": [
    "# CVA Calculation for Risky Bond\n",
    "This exercise is taken from [HERE](https://www.finrgb.com/swatches/cva-calculation-for-risky-bond-solved-example/)\n",
    "Credit: Bhuvnesh Khurana\n",
    "\n",
    "Question:\n",
    "A 3-year corporate bond pays a coupon of 8% per annum (once a year). The term structure of risk-free interest rates is flat at 4% p.a. and is expected to stay unchanged in the future. If the risk-neutral conditional probability of default of the issuer is 2% for a 1-year period and the recovery rate in event of default is 40% (assumed constant), the credit spread of this bond is CLOSEST to:\n",
    "A) 120 bps\n",
    "B) 125 bps\n",
    "C) 130 bps\n",
    "D) 135 bps"
   ]
  },
  {
   "cell_type": "code",
   "execution_count": 2,
   "metadata": {},
   "outputs": [],
   "source": [
    "import numpy as np"
   ]
  },
  {
   "cell_type": "code",
   "execution_count": 11,
   "metadata": {},
   "outputs": [
    {
     "data": {
      "text/plain": [
       "[0.02, 0.0196, 0.0192]"
      ]
     },
     "execution_count": 11,
     "metadata": {},
     "output_type": "execute_result"
    }
   ],
   "source": [
    "PD"
   ]
  },
  {
   "cell_type": "code",
   "execution_count": 18,
   "metadata": {},
   "outputs": [
    {
     "data": {
      "text/plain": [
       "3.6553879622592"
      ]
     },
     "execution_count": 18,
     "metadata": {},
     "output_type": "execute_result"
    }
   ],
   "source": [
    "EE = [115.5444, 111.8462, 108]\n",
    "PD = [0.02, 0.0196, 0.0192]\n",
    "DF = [0.96153, 0.9246, 0.8890]\n",
    "LGD = 0.6\n",
    "\n",
    "CVA = LGD*sum(x*y*z for x, y, z in zip(EE,PD,DF))\n",
    "CVA"
   ]
  }
 ],
 "metadata": {
  "interpreter": {
   "hash": "bf16f1a9dd06422a97c142e751d69ff24c5c20f42ca1ce238a29a37c4c896327"
  },
  "kernelspec": {
   "display_name": "Python 3.9.5 64-bit",
   "name": "python3"
  },
  "language_info": {
   "codemirror_mode": {
    "name": "ipython",
    "version": 3
   },
   "file_extension": ".py",
   "mimetype": "text/x-python",
   "name": "python",
   "nbconvert_exporter": "python",
   "pygments_lexer": "ipython3",
   "version": "3.9.5"
  },
  "orig_nbformat": 4
 },
 "nbformat": 4,
 "nbformat_minor": 2
}
