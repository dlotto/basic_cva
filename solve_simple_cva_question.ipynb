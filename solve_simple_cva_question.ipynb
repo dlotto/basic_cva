{
 "cells": [
  {
   "cell_type": "markdown",
   "metadata": {},
   "source": [
    "# CVA Calculation for Risky Bond\n",
    "This exercise is taken from [HERE](https://www.finrgb.com/swatches/cva-calculation-for-risky-bond-solved-example/)\n",
    "Credit: Bhuvnesh Khurana\n",
    "\n",
    "Question:\n",
    "A 3-year corporate bond pays a coupon of 8% per annum (once a year). The term structure of risk-free interest rates is flat at 4% p.a. and is expected to stay unchanged in the future. If the risk-neutral conditional probability of default of the issuer is 2% for a 1-year period and the recovery rate in event of default is 40% (assumed constant), the credit spread of this bond is CLOSEST to:\n",
    "A) 120 bps\n",
    "B) 125 bps\n",
    "C) 130 bps\n",
    "D) 135 bps"
   ]
  },
  {
   "cell_type": "code",
   "execution_count": 22,
   "metadata": {},
   "outputs": [],
   "source": [
    "import numpy as np, numpy_financial as npf"
   ]
  },
  {
   "cell_type": "code",
   "execution_count": 18,
   "metadata": {},
   "outputs": [
    {
     "data": {
      "text/plain": [
       "3.6553879622592"
      ]
     },
     "execution_count": 18,
     "metadata": {},
     "output_type": "execute_result"
    }
   ],
   "source": [
    "EE = [115.5444, 111.8462, 108]\n",
    "PD = [0.02, 0.0196, 0.0192]\n",
    "DF = [0.96153, 0.9246, 0.8890]\n",
    "LGD = 0.6\n",
    "\n",
    "# Basic CVA Equation\n",
    "CVA = LGD*sum(x*y*z for x, y, z in zip(EE,PD,DF))\n",
    "CVA"
   ]
  },
  {
   "cell_type": "code",
   "execution_count": 25,
   "metadata": {},
   "outputs": [
    {
     "data": {
      "text/plain": [
       "107.44497617064933"
      ]
     },
     "execution_count": 25,
     "metadata": {},
     "output_type": "execute_result"
    }
   ],
   "source": [
    "# Calculate the Risk-Free Rate\n",
    "# Present value of a risk-free bond\n",
    "principal = 100\n",
    "annual_interest = 0.04\n",
    "period = 3\n",
    "coupon_payment = 0.08 * principal\n",
    "\n",
    "risk_free = (npf.pv(annual_interest, period, coupon_payment, principal)) * -1\n",
    "\n",
    "risky_value = risk_free - CVA\n",
    "risky_value\n",
    "\n",
    "# Using a Yield to Maturity calculator found here:\n",
    "# https://dqydj.com/bond-yield-to-maturity-calculator/\n",
    "YTM = 5.253"
   ]
  },
  {
   "cell_type": "markdown",
   "metadata": {},
   "source": [
    "Since the interest rate is 4%. \n",
    "The Credit Spread is 5.253 - 4 = 1.253%"
   ]
  },
  {
   "cell_type": "markdown",
   "metadata": {},
   "source": [
    "## Class function for coupon bond pricing found [HERE](https://medium.com/@gennadii.turutin/how-to-calculate-yield-to-maturity-with-python-65a9a34d56f3)\n",
    "Credit: Gennadi Turutin\n",
    "-Although the formula does not seem to work, it is a good starting point."
   ]
  },
  {
   "cell_type": "code",
   "execution_count": 26,
   "metadata": {},
   "outputs": [],
   "source": [
    "# Tried to build the class function found [HERE](https://medium.com/@gennadii.turutin/how-to-calculate-yield-to-maturity-with-python-65a9a34d56f3)\n",
    "class Coupon_Bond:\n",
    "    def get_price(self, coupon, face_value, int_rate, years, freq=1):\n",
    "        total_coupons_pv = self.get_coupons_pv(coupon, int_rate, years, freq)\n",
    "        face_value_pv = self.get_face_value_pv(face_value, int_rate, years)\n",
    "        result = total_coupons_pv + face_value_pv\n",
    "\n",
    "    @staticmethod\n",
    "    def get_face_value_pv(face_value, int_rate, years):\n",
    "        fvpv = face_value / (1 + int_rate)**years\n",
    "        return fvpv\n",
    "\n",
    "    def get_coupons_pv(self, coupon, int_rate, years, freq=1):\n",
    "        pv = 0\n",
    "        for period in range(years*freq):\n",
    "            pv += self.get_coupon_pv(coupon, int_rate, period+1, freq)\n",
    "        return pv\n",
    "    \n",
    "    @staticmethod\n",
    "    def get_coupon_pv(coupon, int_rate, period, freq):\n",
    "        pv = coupon / (1 + int_rate/freq)**period\n",
    "        return pv\n",
    "    \n",
    "    # something with the lambda isnt working -----\n",
    "    def get_ytm(self, bond_price, face_value, coupon, years, freq=1, estimate=0.05):\n",
    "        import scipy\n",
    "        from scipy import optimize\n",
    "        get_yield = lambda int_rate: self.get_price(coupon, face_value, int_rate, years, freq) - bond_price\n",
    "        return optimize.newton(get_yield, estimate)"
   ]
  },
  {
   "cell_type": "code",
   "execution_count": 30,
   "metadata": {},
   "outputs": [
    {
     "data": {
      "text/plain": [
       "88.89963586709148"
      ]
     },
     "execution_count": 30,
     "metadata": {},
     "output_type": "execute_result"
    }
   ],
   "source": [
    "coup_calc = Coupon_Bond()\n",
    "coup_calc.get_face_value_pv(100, .04, 3)"
   ]
  }
 ],
 "metadata": {
  "interpreter": {
   "hash": "bf16f1a9dd06422a97c142e751d69ff24c5c20f42ca1ce238a29a37c4c896327"
  },
  "kernelspec": {
   "display_name": "Python 3.9.5 64-bit",
   "name": "python3"
  },
  "language_info": {
   "codemirror_mode": {
    "name": "ipython",
    "version": 3
   },
   "file_extension": ".py",
   "mimetype": "text/x-python",
   "name": "python",
   "nbconvert_exporter": "python",
   "pygments_lexer": "ipython3",
   "version": "3.9.5"
  },
  "orig_nbformat": 4
 },
 "nbformat": 4,
 "nbformat_minor": 2
}
