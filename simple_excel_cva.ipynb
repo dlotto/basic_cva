{
 "cells": [
  {
   "cell_type": "markdown",
   "metadata": {},
   "source": [
    "This is a replication from a very simple CVA calculation done in the excel spreadsheet provided by Jon Gregory in The xVA Challenge 3rd Edition.\n",
    "\n",
    "# CVA as a Spread\n",
    "Suppose that instead of computing the CVA as a stand-alone value, one wanted it to be expressed as a spread (per annum charge).\n",
    "\n",
    "Formula:\n",
    "-EPE * Spread\n",
    "\n",
    "EE = s(t) * sqrt(t)\n",
    "s = the volatility of the transaction's market value at time t"
   ]
  },
  {
   "cell_type": "code",
   "execution_count": 2,
   "metadata": {},
   "outputs": [],
   "source": [
    "import numpy as np"
   ]
  },
  {
   "cell_type": "code",
   "execution_count": 14,
   "metadata": {},
   "outputs": [],
   "source": [
    "# Setting the variables\n",
    "spread_5Y = 200\n",
    "s = 0.04\n",
    "t = np.arange(0,10.25,0.25)"
   ]
  },
  {
   "cell_type": "code",
   "execution_count": 9,
   "metadata": {},
   "outputs": [
    {
     "data": {
      "text/plain": [
       "array([0.        , 0.02      , 0.02828427, 0.03464102, 0.04      ,\n",
       "       0.04472136, 0.04898979, 0.05291503, 0.05656854, 0.06      ,\n",
       "       0.06324555, 0.0663325 , 0.06928203, 0.07211103, 0.07483315,\n",
       "       0.07745967, 0.08      , 0.08246211, 0.08485281, 0.08717798,\n",
       "       0.08944272, 0.09165151, 0.09380832, 0.09591663, 0.09797959,\n",
       "       0.1       , 0.10198039, 0.10392305, 0.10583005, 0.1077033 ,\n",
       "       0.10954451, 0.11135529, 0.11313708, 0.11489125, 0.11661904,\n",
       "       0.1183216 , 0.12      , 0.12165525, 0.12328828, 0.12489996,\n",
       "       0.12649111])"
      ]
     },
     "execution_count": 9,
     "metadata": {},
     "output_type": "execute_result"
    }
   ],
   "source": [
    "# Expected exposure\n",
    "EE = np.sqrt(t)*s\n",
    "EE"
   ]
  },
  {
   "cell_type": "code",
   "execution_count": 17,
   "metadata": {},
   "outputs": [
    {
     "data": {
      "text/plain": [
       "0.06020404405938971"
      ]
     },
     "execution_count": 17,
     "metadata": {},
     "output_type": "execute_result"
    }
   ],
   "source": [
    "# Assuming EE is constant over time then it will be equal to the average value (EPE)\n",
    "# Calculating for the 5Y tenor\n",
    "EPE_5Y = EE[1:20].mean()\n",
    "EPE_5Y"
   ]
  },
  {
   "cell_type": "markdown",
   "metadata": {},
   "source": [
    "CVA is expressed in the same units as the credit spread, which should be for the (maximum) maturity of the transaction (portfolio) in question."
   ]
  },
  {
   "cell_type": "code",
   "execution_count": 18,
   "metadata": {},
   "outputs": [
    {
     "data": {
      "text/plain": [
       "-12.040808811877941"
      ]
     },
     "execution_count": 18,
     "metadata": {},
     "output_type": "execute_result"
    }
   ],
   "source": [
    "# CVA expressed in bps\n",
    "CVA_bps = -EPE_5Y * spread_5Y\n",
    "CVA_bps"
   ]
  },
  {
   "cell_type": "markdown",
   "metadata": {},
   "source": [
    "# The Standard CVA Formula\n",
    "\n",
    "CVA = -LGD * SumProduct(EE(t),PD(t))"
   ]
  }
 ],
 "metadata": {
  "interpreter": {
   "hash": "bf16f1a9dd06422a97c142e751d69ff24c5c20f42ca1ce238a29a37c4c896327"
  },
  "kernelspec": {
   "display_name": "Python 3.9.5 64-bit",
   "name": "python3"
  },
  "language_info": {
   "codemirror_mode": {
    "name": "ipython",
    "version": 3
   },
   "file_extension": ".py",
   "mimetype": "text/x-python",
   "name": "python",
   "nbconvert_exporter": "python",
   "pygments_lexer": "ipython3",
   "version": "3.9.5"
  },
  "orig_nbformat": 4
 },
 "nbformat": 4,
 "nbformat_minor": 2
}
