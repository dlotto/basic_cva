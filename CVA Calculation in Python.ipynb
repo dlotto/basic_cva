{
 "cells": [
  {
   "cell_type": "markdown",
   "metadata": {},
   "source": [
    "--From the blog\n",
    "https://github.com/mgroncki/IPythonScripts/blob/master/CVA_calculation_I.ipynb\n",
    "\n",
    "# What is the credit value adjustment\n",
    "The credit value adjustment is the difference between the risk-free price of a netting set and the price which takes the possibility of the default of the counterparty into account.\n",
    "\n",
    "If the time of default and the value of the portfolio are independent then the CVA is given by\n",
    "$$CVA = (1-R) * \\int_0^T df(t)EE(t)dPD(t)$$\n",
    "\n",
    "R = recovery rate\n",
    "T = portfolio maturity\n",
    "df(t) = discount factor at time t\n",
    "EE(t) = expected exposure at time t\n",
    "PD(t) = default probability at time t"
   ]
  },
  {
   "cell_type": "code",
   "execution_count": 1,
   "metadata": {},
   "outputs": [],
   "source": [
    "import numpy as np, QuantLib as ql"
   ]
  },
  {
   "cell_type": "code",
   "execution_count": 3,
   "metadata": {},
   "outputs": [],
   "source": [
    "# Setup of the market state at time zero\n",
    "rate = ql.SimpleQuote(0.03)\n",
    "rate_handle = ql.QuoteHandle(rate)\n",
    "dc = ql.Actual365Fixed()\n",
    "yts = ql.FlatForward(ql.Date(13,10,2021), rate_handle, dc)\n",
    "yts.enableExtrapolation()\n",
    "hyts = ql.RelinkableYieldTermStructureHandle(yts)\n",
    "t0_curve = ql.YieldTermStructureHandle(yts)\n",
    "euribor6m = ql.Euribor6M(hyts)"
   ]
  },
  {
   "cell_type": "code",
   "execution_count": 11,
   "metadata": {},
   "outputs": [
    {
     "data": {
      "text/plain": [
       "<QuantLib.QuantLib.Euribor6M; proxy of <Swig Object of type 'ext::shared_ptr< Euribor6M > *' at 0x00000192C67C58D0> >"
      ]
     },
     "execution_count": 11,
     "metadata": {},
     "output_type": "execute_result"
    }
   ],
   "source": [
    "ql.Euribor6M(hyts)"
   ]
  }
 ],
 "metadata": {
  "interpreter": {
   "hash": "bf16f1a9dd06422a97c142e751d69ff24c5c20f42ca1ce238a29a37c4c896327"
  },
  "kernelspec": {
   "display_name": "Python 3.9.5 64-bit",
   "name": "python3"
  },
  "language_info": {
   "codemirror_mode": {
    "name": "ipython",
    "version": 3
   },
   "file_extension": ".py",
   "mimetype": "text/x-python",
   "name": "python",
   "nbconvert_exporter": "python",
   "pygments_lexer": "ipython3",
   "version": "3.9.5"
  },
  "orig_nbformat": 4
 },
 "nbformat": 4,
 "nbformat_minor": 2
}
